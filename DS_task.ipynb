{
 "cells": [
  {
   "cell_type": "code",
   "execution_count": 1,
   "id": "bced059a-1ca4-485d-9c22-74935721bf8f",
   "metadata": {},
   "outputs": [],
   "source": [
    "# !python.exe -m pip install --upgrade pip\n",
    "# !pip3 install pigar -q\n",
    "import pigar"
   ]
  },
  {
   "cell_type": "code",
   "execution_count": 2,
   "id": "5aee4f7c-c621-43ea-aff8-b7caa0e3a724",
   "metadata": {},
   "outputs": [],
   "source": [
    "import numpy as np\n",
    "import pandas as pd\n",
    "import torch\n",
    "\n",
    "# from sklearn.preprocessing import OrdinalEncoder\n",
    "\n",
    "import matplotlib.pyplot as plt\n",
    "import seaborn as sns\n",
    "\n",
    "import pathlib as pl"
   ]
  },
  {
   "cell_type": "code",
   "execution_count": 3,
   "id": "079e16f4-f295-4fe2-966e-557a34ff282b",
   "metadata": {},
   "outputs": [],
   "source": [
    "# !pigar generate\n",
    "!pip3 install -r requirements.txt -q"
   ]
  },
  {
   "cell_type": "code",
   "execution_count": 4,
   "id": "78508000-7757-4821-954e-6ee88be6b105",
   "metadata": {},
   "outputs": [],
   "source": [
    "DFN = 'data'"
   ]
  },
  {
   "cell_type": "code",
   "execution_count": 5,
   "id": "4d87549a-6e25-4c31-89e3-87c639dbd910",
   "metadata": {},
   "outputs": [],
   "source": [
    "def load(csv_fn: str, location: pl.Path =pl.Path('./').joinpath(DFN), **pdkwargs) -> pd.DataFrame:\n",
    "    \"\"\"loads CSV file to pandas DataFrame if it exists\"\"\"\n",
    "    try:\n",
    "        with open(fp := location.joinpath(csv_fn), 'r') as f:\n",
    "            result = pd.read_csv(f, **pdkwargs)\n",
    "            print(f\"{fp.stat().st_size / 2 ** 20:.3f}MB csv file {fp} has been loaded successfully\")\n",
    "        return result\n",
    "    except FileNotFoundError:\n",
    "        print(f\"file {csv_fn} doesn't exist\")\n",
    "        return None"
   ]
  },
  {
   "cell_type": "code",
   "execution_count": 386,
   "id": "1d3fbeb7-3d5b-4300-8a43-e18edd8b82fa",
   "metadata": {},
   "outputs": [
    {
     "name": "stdout",
     "output_type": "stream",
     "text": [
      "14.085MB csv file data\\problem_train.csv has been loaded successfully\n",
      "3.539MB csv file data\\problem_test.csv has been loaded successfully\n",
      "0.263MB csv file data\\problem_labels.csv has been loaded successfully\n"
     ]
    }
   ],
   "source": [
    "train_df = load('problem_train.csv', low_memory=False)\n",
    "test_df = load('problem_test.csv', low_memory=False)\n",
    "labels_df = load('problem_labels.csv')"
   ]
  },
  {
   "cell_type": "code",
   "execution_count": 7,
   "id": "3c553162-6b33-451d-83fa-619b8d290c42",
   "metadata": {},
   "outputs": [
    {
     "data": {
      "text/plain": [
       "(array([dtype('int64')], dtype=object), (8000, 15), 15)"
      ]
     },
     "execution_count": 7,
     "metadata": {},
     "output_type": "execute_result"
    }
   ],
   "source": [
    "# everything (except auto-indexing as object) is treated as int64\n",
    "labels_df.dtypes.unique(), labels_df.shape, labels_df.select_dtypes(include=['int64']).columns.size"
   ]
  },
  {
   "cell_type": "code",
   "execution_count": 8,
   "id": "b574e470-94a6-4961-9839-8c4710bc041f",
   "metadata": {},
   "outputs": [
    {
     "data": {
      "text/html": [
       "<div>\n",
       "<style scoped>\n",
       "    .dataframe tbody tr th:only-of-type {\n",
       "        vertical-align: middle;\n",
       "    }\n",
       "\n",
       "    .dataframe tbody tr th {\n",
       "        vertical-align: top;\n",
       "    }\n",
       "\n",
       "    .dataframe thead th {\n",
       "        text-align: right;\n",
       "    }\n",
       "</style>\n",
       "<table border=\"1\" class=\"dataframe\">\n",
       "  <thead>\n",
       "    <tr style=\"text-align: right;\">\n",
       "      <th></th>\n",
       "      <th>id</th>\n",
       "      <th>service_a</th>\n",
       "      <th>service_b</th>\n",
       "      <th>service_c</th>\n",
       "      <th>service_d</th>\n",
       "      <th>service_e</th>\n",
       "      <th>service_f</th>\n",
       "      <th>service_g</th>\n",
       "      <th>service_h</th>\n",
       "      <th>service_i</th>\n",
       "      <th>service_j</th>\n",
       "      <th>service_k</th>\n",
       "      <th>service_l</th>\n",
       "      <th>service_m</th>\n",
       "      <th>service_n</th>\n",
       "    </tr>\n",
       "  </thead>\n",
       "  <tbody>\n",
       "    <tr>\n",
       "      <th>0</th>\n",
       "      <td>11193</td>\n",
       "      <td>1</td>\n",
       "      <td>1</td>\n",
       "      <td>0</td>\n",
       "      <td>0</td>\n",
       "      <td>0</td>\n",
       "      <td>0</td>\n",
       "      <td>0</td>\n",
       "      <td>0</td>\n",
       "      <td>0</td>\n",
       "      <td>1</td>\n",
       "      <td>1</td>\n",
       "      <td>0</td>\n",
       "      <td>0</td>\n",
       "      <td>0</td>\n",
       "    </tr>\n",
       "    <tr>\n",
       "      <th>1</th>\n",
       "      <td>11382</td>\n",
       "      <td>0</td>\n",
       "      <td>0</td>\n",
       "      <td>0</td>\n",
       "      <td>0</td>\n",
       "      <td>0</td>\n",
       "      <td>0</td>\n",
       "      <td>0</td>\n",
       "      <td>0</td>\n",
       "      <td>0</td>\n",
       "      <td>1</td>\n",
       "      <td>1</td>\n",
       "      <td>0</td>\n",
       "      <td>0</td>\n",
       "      <td>0</td>\n",
       "    </tr>\n",
       "    <tr>\n",
       "      <th>2</th>\n",
       "      <td>16531</td>\n",
       "      <td>0</td>\n",
       "      <td>0</td>\n",
       "      <td>0</td>\n",
       "      <td>0</td>\n",
       "      <td>0</td>\n",
       "      <td>0</td>\n",
       "      <td>0</td>\n",
       "      <td>0</td>\n",
       "      <td>0</td>\n",
       "      <td>1</td>\n",
       "      <td>1</td>\n",
       "      <td>0</td>\n",
       "      <td>0</td>\n",
       "      <td>0</td>\n",
       "    </tr>\n",
       "    <tr>\n",
       "      <th>3</th>\n",
       "      <td>1896</td>\n",
       "      <td>0</td>\n",
       "      <td>0</td>\n",
       "      <td>0</td>\n",
       "      <td>1</td>\n",
       "      <td>0</td>\n",
       "      <td>0</td>\n",
       "      <td>0</td>\n",
       "      <td>0</td>\n",
       "      <td>0</td>\n",
       "      <td>1</td>\n",
       "      <td>0</td>\n",
       "      <td>1</td>\n",
       "      <td>0</td>\n",
       "      <td>0</td>\n",
       "    </tr>\n",
       "    <tr>\n",
       "      <th>4</th>\n",
       "      <td>18262</td>\n",
       "      <td>0</td>\n",
       "      <td>0</td>\n",
       "      <td>0</td>\n",
       "      <td>1</td>\n",
       "      <td>1</td>\n",
       "      <td>0</td>\n",
       "      <td>0</td>\n",
       "      <td>0</td>\n",
       "      <td>0</td>\n",
       "      <td>0</td>\n",
       "      <td>1</td>\n",
       "      <td>1</td>\n",
       "      <td>1</td>\n",
       "      <td>0</td>\n",
       "    </tr>\n",
       "    <tr>\n",
       "      <th>...</th>\n",
       "      <td>...</td>\n",
       "      <td>...</td>\n",
       "      <td>...</td>\n",
       "      <td>...</td>\n",
       "      <td>...</td>\n",
       "      <td>...</td>\n",
       "      <td>...</td>\n",
       "      <td>...</td>\n",
       "      <td>...</td>\n",
       "      <td>...</td>\n",
       "      <td>...</td>\n",
       "      <td>...</td>\n",
       "      <td>...</td>\n",
       "      <td>...</td>\n",
       "      <td>...</td>\n",
       "    </tr>\n",
       "    <tr>\n",
       "      <th>7995</th>\n",
       "      <td>10898</td>\n",
       "      <td>1</td>\n",
       "      <td>1</td>\n",
       "      <td>1</td>\n",
       "      <td>0</td>\n",
       "      <td>0</td>\n",
       "      <td>0</td>\n",
       "      <td>1</td>\n",
       "      <td>0</td>\n",
       "      <td>0</td>\n",
       "      <td>1</td>\n",
       "      <td>1</td>\n",
       "      <td>1</td>\n",
       "      <td>1</td>\n",
       "      <td>1</td>\n",
       "    </tr>\n",
       "    <tr>\n",
       "      <th>7996</th>\n",
       "      <td>16664</td>\n",
       "      <td>0</td>\n",
       "      <td>0</td>\n",
       "      <td>0</td>\n",
       "      <td>0</td>\n",
       "      <td>0</td>\n",
       "      <td>0</td>\n",
       "      <td>0</td>\n",
       "      <td>0</td>\n",
       "      <td>0</td>\n",
       "      <td>1</td>\n",
       "      <td>1</td>\n",
       "      <td>0</td>\n",
       "      <td>0</td>\n",
       "      <td>0</td>\n",
       "    </tr>\n",
       "    <tr>\n",
       "      <th>7997</th>\n",
       "      <td>5334</td>\n",
       "      <td>1</td>\n",
       "      <td>0</td>\n",
       "      <td>0</td>\n",
       "      <td>0</td>\n",
       "      <td>0</td>\n",
       "      <td>0</td>\n",
       "      <td>0</td>\n",
       "      <td>0</td>\n",
       "      <td>0</td>\n",
       "      <td>1</td>\n",
       "      <td>1</td>\n",
       "      <td>0</td>\n",
       "      <td>0</td>\n",
       "      <td>0</td>\n",
       "    </tr>\n",
       "    <tr>\n",
       "      <th>7998</th>\n",
       "      <td>7905</td>\n",
       "      <td>1</td>\n",
       "      <td>1</td>\n",
       "      <td>1</td>\n",
       "      <td>0</td>\n",
       "      <td>0</td>\n",
       "      <td>0</td>\n",
       "      <td>0</td>\n",
       "      <td>0</td>\n",
       "      <td>0</td>\n",
       "      <td>1</td>\n",
       "      <td>1</td>\n",
       "      <td>0</td>\n",
       "      <td>0</td>\n",
       "      <td>0</td>\n",
       "    </tr>\n",
       "    <tr>\n",
       "      <th>7999</th>\n",
       "      <td>3997</td>\n",
       "      <td>1</td>\n",
       "      <td>1</td>\n",
       "      <td>0</td>\n",
       "      <td>0</td>\n",
       "      <td>1</td>\n",
       "      <td>0</td>\n",
       "      <td>0</td>\n",
       "      <td>1</td>\n",
       "      <td>0</td>\n",
       "      <td>1</td>\n",
       "      <td>0</td>\n",
       "      <td>0</td>\n",
       "      <td>0</td>\n",
       "      <td>0</td>\n",
       "    </tr>\n",
       "  </tbody>\n",
       "</table>\n",
       "<p>8000 rows × 15 columns</p>\n",
       "</div>"
      ],
      "text/plain": [
       "         id  service_a  service_b  service_c  service_d  service_e  service_f  \\\n",
       "0     11193          1          1          0          0          0          0   \n",
       "1     11382          0          0          0          0          0          0   \n",
       "2     16531          0          0          0          0          0          0   \n",
       "3      1896          0          0          0          1          0          0   \n",
       "4     18262          0          0          0          1          1          0   \n",
       "...     ...        ...        ...        ...        ...        ...        ...   \n",
       "7995  10898          1          1          1          0          0          0   \n",
       "7996  16664          0          0          0          0          0          0   \n",
       "7997   5334          1          0          0          0          0          0   \n",
       "7998   7905          1          1          1          0          0          0   \n",
       "7999   3997          1          1          0          0          1          0   \n",
       "\n",
       "      service_g  service_h  service_i  service_j  service_k  service_l  \\\n",
       "0             0          0          0          1          1          0   \n",
       "1             0          0          0          1          1          0   \n",
       "2             0          0          0          1          1          0   \n",
       "3             0          0          0          1          0          1   \n",
       "4             0          0          0          0          1          1   \n",
       "...         ...        ...        ...        ...        ...        ...   \n",
       "7995          1          0          0          1          1          1   \n",
       "7996          0          0          0          1          1          0   \n",
       "7997          0          0          0          1          1          0   \n",
       "7998          0          0          0          1          1          0   \n",
       "7999          0          1          0          1          0          0   \n",
       "\n",
       "      service_m  service_n  \n",
       "0             0          0  \n",
       "1             0          0  \n",
       "2             0          0  \n",
       "3             0          0  \n",
       "4             1          0  \n",
       "...         ...        ...  \n",
       "7995          1          1  \n",
       "7996          0          0  \n",
       "7997          0          0  \n",
       "7998          0          0  \n",
       "7999          0          0  \n",
       "\n",
       "[8000 rows x 15 columns]"
      ]
     },
     "execution_count": 8,
     "metadata": {},
     "output_type": "execute_result"
    }
   ],
   "source": [
    "labels_df"
   ]
  },
  {
   "cell_type": "markdown",
   "id": "cc4fcfe9-0386-4b7e-9ba9-b4653fbc603c",
   "metadata": {},
   "source": [
    "# Preprocessing intro\n",
    "First of all, task provides 0 domain knowledge, I have no idea what's behind that data\n",
    "\n",
    "There is a lot of missing values and only 32 columns do not contain any missing data. Amongst those lies the 'id' column that must be discarded as all samples are considered IID and their order must not matter\n",
    "\n",
    "Data has both categorical and numerical (integer and float) features"
   ]
  },
  {
   "cell_type": "code",
   "execution_count": 508,
   "id": "e25627e2-0968-4886-a849-7eca0dda5007",
   "metadata": {},
   "outputs": [
    {
     "data": {
      "text/plain": [
       "(1025, 345, 9)"
      ]
     },
     "execution_count": 508,
     "metadata": {},
     "output_type": "execute_result"
    }
   ],
   "source": [
    "# we've inferred text, float and integer dtypes from train data\n",
    "train_df.dtypes.unique()\n",
    "# type O means strings, pandas stores pointers to strings (python objects) instead of strings themselves \n",
    "train_df.select_dtypes(include=['O']).columns.size, train_df.select_dtypes(include=['float64']).columns.size, train_df.select_dtypes(include=['int64']).columns.size"
   ]
  },
  {
   "cell_type": "code",
   "execution_count": 509,
   "id": "193bfd20-15b6-4f7c-9cf3-4b3663f2ac8e",
   "metadata": {},
   "outputs": [
    {
     "data": {
      "text/plain": [
       "True"
      ]
     },
     "execution_count": 509,
     "metadata": {},
     "output_type": "execute_result"
    }
   ],
   "source": [
    "sum((1025, 345, 9)) == train_df.columns.size"
   ]
  },
  {
   "cell_type": "code",
   "execution_count": 510,
   "id": "489a1200-481f-4abf-a971-6ddf61b9a964",
   "metadata": {},
   "outputs": [
    {
     "data": {
      "image/png": "[encoded data removed]",
      "text/plain": [
       "<Figure size 1000x300 with 1 Axes>"
      ]
     },
     "metadata": {},
     "output_type": "display_data"
    }
   ],
   "source": [
    "# missing values per column\n",
    "fig, ax = plt.subplots(figsize=(10,3)) \n",
    "plt.title('Distribution of missing values')\n",
    "plt.xlabel('Amount of NaNs')\n",
    "ax = sns.histplot(train_df.isnull().sum(axis=0), ax=ax)"
   ]
  },
  {
   "cell_type": "markdown",
   "id": "0d4a2ebd-2f0e-4703-87c2-9897b0993585",
   "metadata": {},
   "source": [
    "## NaN treatment\n",
    "Since every row contains NaN values in at least 1 column, we can't just drop those and there is no rows with all NaNs (even w/o id and release columns)\n",
    "\n",
    "Nevertheless, there are 30 columns with NaN only values that must be discarded (unless test data contains those -- and it doesn't)"
   ]
  },
  {
   "cell_type": "code",
   "execution_count": 170,
   "id": "a0e42609-0a69-4ff7-9940-fa2686b33633",
   "metadata": {},
   "outputs": [
    {
     "data": {
      "text/plain": [
       "8000"
      ]
     },
     "execution_count": 170,
     "metadata": {},
     "output_type": "execute_result"
    }
   ],
   "source": [
    "# rows with at least 1 NaN\n",
    "train_df[train_df.isnull().any(axis=1)].shape[0]"
   ]
  },
  {
   "cell_type": "code",
   "execution_count": 171,
   "id": "76fde33e-0591-4090-ba20-e2fe56f790a8",
   "metadata": {},
   "outputs": [
    {
     "data": {
      "text/plain": [
       "32"
      ]
     },
     "execution_count": 171,
     "metadata": {},
     "output_type": "execute_result"
    }
   ],
   "source": [
    "# columns without NaNs\n",
    "train_df[train_df.columns[~train_df.isnull().any(axis=0)]].shape[1]"
   ]
  },
  {
   "cell_type": "code",
   "execution_count": 172,
   "id": "0dfa33e7-0583-4a59-a605-46eec92e54fd",
   "metadata": {},
   "outputs": [
    {
     "data": {
      "text/plain": [
       "(True, 30)"
      ]
     },
     "execution_count": 172,
     "metadata": {},
     "output_type": "execute_result"
    }
   ],
   "source": [
    "# columns with all NaNs\n",
    "allnan_cols = train_df.columns[train_df.isnull().all(axis=0)]\n",
    "# ensures that train and test data have identical all-NaN columns\n",
    "(test_df.columns[train_df.isnull().all(axis=0)] == train_df.columns[train_df.isnull().all(axis=0)]).all(), allnan_cols.shape[0]\n",
    "# train_df[allnan_cols]"
   ]
  },
  {
   "cell_type": "markdown",
   "id": "1197cd9b-2285-4bfa-816d-a0d476b36229",
   "metadata": {},
   "source": [
    "## Integer part\n",
    "It contains just 9 columns without any missing values. Nothing to do here, just note that 'id' column has to be discarded"
   ]
  },
  {
   "cell_type": "code",
   "execution_count": 185,
   "id": "a397aa54-8e08-476e-bfdb-64e5598e87ef",
   "metadata": {},
   "outputs": [
    {
     "data": {
      "text/html": [
       "<div>\n",
       "<style scoped>\n",
       "    .dataframe tbody tr th:only-of-type {\n",
       "        vertical-align: middle;\n",
       "    }\n",
       "\n",
       "    .dataframe tbody tr th {\n",
       "        vertical-align: top;\n",
       "    }\n",
       "\n",
       "    .dataframe thead th {\n",
       "        text-align: right;\n",
       "    }\n",
       "</style>\n",
       "<table border=\"1\" class=\"dataframe\">\n",
       "  <thead>\n",
       "    <tr style=\"text-align: right;\">\n",
       "      <th></th>\n",
       "      <th>id</th>\n",
       "      <th>n_0047</th>\n",
       "      <th>n_0050</th>\n",
       "      <th>n_0052</th>\n",
       "      <th>n_0061</th>\n",
       "      <th>n_0075</th>\n",
       "      <th>n_0091</th>\n",
       "      <th>o_0176</th>\n",
       "      <th>o_0264</th>\n",
       "    </tr>\n",
       "  </thead>\n",
       "  <tbody>\n",
       "    <tr>\n",
       "      <th>count</th>\n",
       "      <td>8000.000000</td>\n",
       "      <td>8000.0</td>\n",
       "      <td>8000.0</td>\n",
       "      <td>8000.0</td>\n",
       "      <td>8000.0</td>\n",
       "      <td>8000.0</td>\n",
       "      <td>8000.0</td>\n",
       "      <td>8000.000000</td>\n",
       "      <td>8000.000000</td>\n",
       "    </tr>\n",
       "    <tr>\n",
       "      <th>mean</th>\n",
       "      <td>9220.303375</td>\n",
       "      <td>1.0</td>\n",
       "      <td>1.0</td>\n",
       "      <td>1.0</td>\n",
       "      <td>1.0</td>\n",
       "      <td>1.0</td>\n",
       "      <td>1.0</td>\n",
       "      <td>198.395500</td>\n",
       "      <td>4.585875</td>\n",
       "    </tr>\n",
       "    <tr>\n",
       "      <th>std</th>\n",
       "      <td>5236.897900</td>\n",
       "      <td>0.0</td>\n",
       "      <td>0.0</td>\n",
       "      <td>0.0</td>\n",
       "      <td>0.0</td>\n",
       "      <td>0.0</td>\n",
       "      <td>0.0</td>\n",
       "      <td>118.487761</td>\n",
       "      <td>2.237912</td>\n",
       "    </tr>\n",
       "    <tr>\n",
       "      <th>min</th>\n",
       "      <td>0.000000</td>\n",
       "      <td>1.0</td>\n",
       "      <td>1.0</td>\n",
       "      <td>1.0</td>\n",
       "      <td>1.0</td>\n",
       "      <td>1.0</td>\n",
       "      <td>1.0</td>\n",
       "      <td>0.000000</td>\n",
       "      <td>0.000000</td>\n",
       "    </tr>\n",
       "    <tr>\n",
       "      <th>25%</th>\n",
       "      <td>4773.500000</td>\n",
       "      <td>1.0</td>\n",
       "      <td>1.0</td>\n",
       "      <td>1.0</td>\n",
       "      <td>1.0</td>\n",
       "      <td>1.0</td>\n",
       "      <td>1.0</td>\n",
       "      <td>92.000000</td>\n",
       "      <td>4.000000</td>\n",
       "    </tr>\n",
       "    <tr>\n",
       "      <th>50%</th>\n",
       "      <td>9221.500000</td>\n",
       "      <td>1.0</td>\n",
       "      <td>1.0</td>\n",
       "      <td>1.0</td>\n",
       "      <td>1.0</td>\n",
       "      <td>1.0</td>\n",
       "      <td>1.0</td>\n",
       "      <td>193.000000</td>\n",
       "      <td>5.000000</td>\n",
       "    </tr>\n",
       "    <tr>\n",
       "      <th>75%</th>\n",
       "      <td>13702.750000</td>\n",
       "      <td>1.0</td>\n",
       "      <td>1.0</td>\n",
       "      <td>1.0</td>\n",
       "      <td>1.0</td>\n",
       "      <td>1.0</td>\n",
       "      <td>1.0</td>\n",
       "      <td>315.000000</td>\n",
       "      <td>6.000000</td>\n",
       "    </tr>\n",
       "    <tr>\n",
       "      <th>max</th>\n",
       "      <td>18302.000000</td>\n",
       "      <td>1.0</td>\n",
       "      <td>1.0</td>\n",
       "      <td>1.0</td>\n",
       "      <td>1.0</td>\n",
       "      <td>1.0</td>\n",
       "      <td>1.0</td>\n",
       "      <td>369.000000</td>\n",
       "      <td>10.000000</td>\n",
       "    </tr>\n",
       "  </tbody>\n",
       "</table>\n",
       "</div>"
      ],
      "text/plain": [
       "                 id  n_0047  n_0050  n_0052  n_0061  n_0075  n_0091  \\\n",
       "count   8000.000000  8000.0  8000.0  8000.0  8000.0  8000.0  8000.0   \n",
       "mean    9220.303375     1.0     1.0     1.0     1.0     1.0     1.0   \n",
       "std     5236.897900     0.0     0.0     0.0     0.0     0.0     0.0   \n",
       "min        0.000000     1.0     1.0     1.0     1.0     1.0     1.0   \n",
       "25%     4773.500000     1.0     1.0     1.0     1.0     1.0     1.0   \n",
       "50%     9221.500000     1.0     1.0     1.0     1.0     1.0     1.0   \n",
       "75%    13702.750000     1.0     1.0     1.0     1.0     1.0     1.0   \n",
       "max    18302.000000     1.0     1.0     1.0     1.0     1.0     1.0   \n",
       "\n",
       "            o_0176       o_0264  \n",
       "count  8000.000000  8000.000000  \n",
       "mean    198.395500     4.585875  \n",
       "std     118.487761     2.237912  \n",
       "min       0.000000     0.000000  \n",
       "25%      92.000000     4.000000  \n",
       "50%     193.000000     5.000000  \n",
       "75%     315.000000     6.000000  \n",
       "max     369.000000    10.000000  "
      ]
     },
     "execution_count": 185,
     "metadata": {},
     "output_type": "execute_result"
    }
   ],
   "source": [
    "int_part = train_df.select_dtypes(include=['int64'])\n",
    "int_part.describe()"
   ]
  },
  {
   "cell_type": "markdown",
   "id": "8ffe95e1-e874-46d1-955e-a9a1e3d2eca4",
   "metadata": {},
   "source": [
    "## String part\n",
    "Treated as categorical features, contains 1025 sparse columns with latin letters (33 lowercase latin letters, the only unique string value amongst top-50 columns is \"**p**\") and many missing values\n",
    "\n",
    "It's not clearly ordinal (doesn't have any strong order except an alphabetical) and should be (ideally) one-hot-encoded (columnwise) as it doesn't bring any semantic meaning\n",
    "\n",
    "Nevertheless, I don't want to blow up feature amount with OHE or discard features even with 99% of NaNs (like **o_0320**) at this stage, that's why i am going to implement ordinal encoding for all categorical features while treating NaNs as a separate entity (encoded as -1 by pd.factorize)"
   ]
  },
  {
   "cell_type": "code",
   "execution_count": 202,
   "id": "ea42330c-84dc-445d-ba08-ec151a3192dc",
   "metadata": {},
   "outputs": [
    {
     "data": {
      "text/html": [
       "<div>\n",
       "<style scoped>\n",
       "    .dataframe tbody tr th:only-of-type {\n",
       "        vertical-align: middle;\n",
       "    }\n",
       "\n",
       "    .dataframe tbody tr th {\n",
       "        vertical-align: top;\n",
       "    }\n",
       "\n",
       "    .dataframe thead th {\n",
       "        text-align: right;\n",
       "    }\n",
       "</style>\n",
       "<table border=\"1\" class=\"dataframe\">\n",
       "  <thead>\n",
       "    <tr style=\"text-align: right;\">\n",
       "      <th></th>\n",
       "      <th>release</th>\n",
       "      <th>c_0327</th>\n",
       "      <th>c_0328</th>\n",
       "      <th>c_0329</th>\n",
       "      <th>c_0330</th>\n",
       "      <th>c_0331</th>\n",
       "      <th>c_0332</th>\n",
       "      <th>c_0333</th>\n",
       "      <th>c_0334</th>\n",
       "      <th>c_0335</th>\n",
       "      <th>...</th>\n",
       "      <th>c_1368</th>\n",
       "      <th>c_1369</th>\n",
       "      <th>c_1370</th>\n",
       "      <th>c_1371</th>\n",
       "      <th>c_1372</th>\n",
       "      <th>c_1373</th>\n",
       "      <th>c_1374</th>\n",
       "      <th>c_1375</th>\n",
       "      <th>c_1376</th>\n",
       "      <th>c_1377</th>\n",
       "    </tr>\n",
       "  </thead>\n",
       "  <tbody>\n",
       "    <tr>\n",
       "      <th>count</th>\n",
       "      <td>8000</td>\n",
       "      <td>22</td>\n",
       "      <td>512</td>\n",
       "      <td>5</td>\n",
       "      <td>157</td>\n",
       "      <td>6</td>\n",
       "      <td>1690</td>\n",
       "      <td>482</td>\n",
       "      <td>26</td>\n",
       "      <td>821</td>\n",
       "      <td>...</td>\n",
       "      <td>3</td>\n",
       "      <td>48</td>\n",
       "      <td>377</td>\n",
       "      <td>2</td>\n",
       "      <td>7998</td>\n",
       "      <td>440</td>\n",
       "      <td>3155</td>\n",
       "      <td>563</td>\n",
       "      <td>7</td>\n",
       "      <td>1908</td>\n",
       "    </tr>\n",
       "    <tr>\n",
       "      <th>unique</th>\n",
       "      <td>3</td>\n",
       "      <td>2</td>\n",
       "      <td>5</td>\n",
       "      <td>4</td>\n",
       "      <td>6</td>\n",
       "      <td>3</td>\n",
       "      <td>2</td>\n",
       "      <td>2</td>\n",
       "      <td>9</td>\n",
       "      <td>5</td>\n",
       "      <td>...</td>\n",
       "      <td>3</td>\n",
       "      <td>11</td>\n",
       "      <td>3</td>\n",
       "      <td>2</td>\n",
       "      <td>2</td>\n",
       "      <td>5</td>\n",
       "      <td>24</td>\n",
       "      <td>19</td>\n",
       "      <td>2</td>\n",
       "      <td>2</td>\n",
       "    </tr>\n",
       "    <tr>\n",
       "      <th>top</th>\n",
       "      <td>a</td>\n",
       "      <td>a</td>\n",
       "      <td>d</td>\n",
       "      <td>e</td>\n",
       "      <td>c</td>\n",
       "      <td>c</td>\n",
       "      <td>a</td>\n",
       "      <td>b</td>\n",
       "      <td>i</td>\n",
       "      <td>b</td>\n",
       "      <td>...</td>\n",
       "      <td>d</td>\n",
       "      <td>m</td>\n",
       "      <td>b</td>\n",
       "      <td>c</td>\n",
       "      <td>a</td>\n",
       "      <td>c</td>\n",
       "      <td>b</td>\n",
       "      <td>j</td>\n",
       "      <td>b</td>\n",
       "      <td>b</td>\n",
       "    </tr>\n",
       "    <tr>\n",
       "      <th>freq</th>\n",
       "      <td>3838</td>\n",
       "      <td>12</td>\n",
       "      <td>248</td>\n",
       "      <td>2</td>\n",
       "      <td>68</td>\n",
       "      <td>4</td>\n",
       "      <td>1498</td>\n",
       "      <td>383</td>\n",
       "      <td>15</td>\n",
       "      <td>468</td>\n",
       "      <td>...</td>\n",
       "      <td>1</td>\n",
       "      <td>22</td>\n",
       "      <td>312</td>\n",
       "      <td>1</td>\n",
       "      <td>7460</td>\n",
       "      <td>167</td>\n",
       "      <td>1559</td>\n",
       "      <td>232</td>\n",
       "      <td>4</td>\n",
       "      <td>1441</td>\n",
       "    </tr>\n",
       "  </tbody>\n",
       "</table>\n",
       "<p>4 rows × 1025 columns</p>\n",
       "</div>"
      ],
      "text/plain": [
       "       release c_0327 c_0328 c_0329 c_0330 c_0331 c_0332 c_0333 c_0334 c_0335  \\\n",
       "count     8000     22    512      5    157      6   1690    482     26    821   \n",
       "unique       3      2      5      4      6      3      2      2      9      5   \n",
       "top          a      a      d      e      c      c      a      b      i      b   \n",
       "freq      3838     12    248      2     68      4   1498    383     15    468   \n",
       "\n",
       "        ... c_1368 c_1369 c_1370 c_1371 c_1372 c_1373 c_1374 c_1375 c_1376  \\\n",
       "count   ...      3     48    377      2   7998    440   3155    563      7   \n",
       "unique  ...      3     11      3      2      2      5     24     19      2   \n",
       "top     ...      d      m      b      c      a      c      b      j      b   \n",
       "freq    ...      1     22    312      1   7460    167   1559    232      4   \n",
       "\n",
       "       c_1377  \n",
       "count    1908  \n",
       "unique      2  \n",
       "top         b  \n",
       "freq     1441  \n",
       "\n",
       "[4 rows x 1025 columns]"
      ]
     },
     "execution_count": 202,
     "metadata": {},
     "output_type": "execute_result"
    }
   ],
   "source": [
    "string_part = train_df.select_dtypes(include=['O'])\n",
    "string_stats = string_part.describe()\n",
    "string_stats"
   ]
  },
  {
   "cell_type": "code",
   "execution_count": 516,
   "id": "c4915a1c-ecc2-4b0d-8e29-4f9a8d7886ce",
   "metadata": {},
   "outputs": [
    {
     "data": {
      "image/png": "[encoded data removed]",
      "text/plain": [
       "<Figure size 500x400 with 1 Axes>"
      ]
     },
     "metadata": {},
     "output_type": "display_data"
    }
   ],
   "source": [
    "# plot distribution of unique values\n",
    "uniques_per_column = string_stats.loc['unique']\n",
    "#let's also calculate some quantile to the distribution plot\n",
    "unq = np.quantile(uniques_per_column, q=0.75)\n",
    "plt.figure(figsize=(5,4))\n",
    "plt.title('Distribution of values for categorical features')\n",
    "plt.xlabel('Amount of unique values')\n",
    "plt.axvline(unq, color='red')\n",
    "ax = sns.histplot(uniques_per_column, kde=True)"
   ]
  },
  {
   "cell_type": "code",
   "execution_count": 513,
   "id": "4dde6481-236f-483a-9d90-501884d613cf",
   "metadata": {},
   "outputs": [
    {
     "data": {
      "text/plain": [
       "(c_1259    32\n",
       " c_1374    24\n",
       " c_0965    23\n",
       " c_0523    23\n",
       " c_0434    23\n",
       " Name: unique, dtype: object,\n",
       " array(['n', 'e', 'w', 'm', 'p', 's', 'u', 'k', 'j', 'b', 'i', 'B', 'q',\n",
       "        'a', 'h', 'G', 'c', 'd', 'C', 'v', 'y', 'D', 'o', 'l', 'A', 'z',\n",
       "        't', 'r', 'F', 'x', 'g', 'f'], dtype=object))"
      ]
     },
     "execution_count": 513,
     "metadata": {},
     "output_type": "execute_result"
    }
   ],
   "source": [
    "# find columns with top-5 by unique values\n",
    "string_stats.loc['unique'].sort_values(ascending=False).head(5), train_df['c_1259'].unique()"
   ]
  },
  {
   "cell_type": "code",
   "execution_count": 514,
   "id": "33830686-9a0c-4902-9703-8a91c77d933e",
   "metadata": {},
   "outputs": [
    {
     "data": {
      "text/plain": [
       "array(['a', 'b', 'c', 'd', 'e', 'f', 'g', 'h', 'i', 'j', 'k', 'l', 'm',\n",
       "       'n', 'o', 'p', 'u', 'v', 'w'], dtype=object)"
      ]
     },
     "execution_count": 514,
     "metadata": {},
     "output_type": "execute_result"
    }
   ],
   "source": [
    "from functools import reduce\n",
    "# establish top K columns (by amount of unique strings) in dataframe\n",
    "df_string_sample = string_stats.loc['unique'].sort_values(ascending=False).head(10).index\n",
    "# extract unique values\n",
    "df_string_sample_cols = [train_df[cn].dropna().unique() for cn in df_string_sample]\n",
    "# compare, find intersection\n",
    "reduce(np.intersect1d, df_string_sample_cols) # ~ map and accumulate"
   ]
  },
  {
   "cell_type": "code",
   "execution_count": 515,
   "id": "bb2f938a-1d5b-4e41-b1b5-6287252b6b24",
   "metadata": {},
   "outputs": [
    {
     "data": {
      "text/plain": [
       "array(['a', 'c', 'b', nan, 'd', 'e', 'f', 'i', 'h', 'k', 'm', 'g', 'r',\n",
       "       's', 'o', 'j', 'l', 'q', 'p', 't', 'n', 'w', 'u', 'v', 'x', 'y',\n",
       "       'B', 'G', 'C', 'D', 'A', 'z', 'F'], dtype=object)"
      ]
     },
     "execution_count": 515,
     "metadata": {},
     "output_type": "execute_result"
    }
   ],
   "source": [
    "# list all possible unique values\n",
    "pd.unique(string_part.values.ravel('K'))"
   ]
  },
  {
   "cell_type": "markdown",
   "id": "5f548f64-1389-43f8-9582-1a53a916d4ec",
   "metadata": {},
   "source": [
    "## Float part\n",
    "Contains 345 columns with a lot of missing values, only 4 columns have\n",
    "\n",
    "Those NaNs are strongly ($\\rho= 0.87$) correlated with float NaNs, i.e. used to come together"
   ]
  },
  {
   "cell_type": "code",
   "execution_count": 524,
   "id": "5693fe53-f0b2-4a1f-a122-c04418e00d84",
   "metadata": {},
   "outputs": [
    {
     "data": {
      "text/html": [
       "<div>\n",
       "<style scoped>\n",
       "    .dataframe tbody tr th:only-of-type {\n",
       "        vertical-align: middle;\n",
       "    }\n",
       "\n",
       "    .dataframe tbody tr th {\n",
       "        vertical-align: top;\n",
       "    }\n",
       "\n",
       "    .dataframe thead th {\n",
       "        text-align: right;\n",
       "    }\n",
       "</style>\n",
       "<table border=\"1\" class=\"dataframe\">\n",
       "  <thead>\n",
       "    <tr style=\"text-align: right;\">\n",
       "      <th></th>\n",
       "      <th>n_0000</th>\n",
       "      <th>n_0001</th>\n",
       "      <th>n_0002</th>\n",
       "      <th>n_0003</th>\n",
       "      <th>n_0004</th>\n",
       "      <th>n_0005</th>\n",
       "      <th>n_0006</th>\n",
       "      <th>n_0007</th>\n",
       "      <th>n_0008</th>\n",
       "      <th>n_0009</th>\n",
       "      <th>...</th>\n",
       "      <th>c_1072</th>\n",
       "      <th>c_1129</th>\n",
       "      <th>c_1148</th>\n",
       "      <th>c_1168</th>\n",
       "      <th>c_1230</th>\n",
       "      <th>c_1257</th>\n",
       "      <th>c_1277</th>\n",
       "      <th>c_1281</th>\n",
       "      <th>c_1308</th>\n",
       "      <th>c_1332</th>\n",
       "    </tr>\n",
       "  </thead>\n",
       "  <tbody>\n",
       "    <tr>\n",
       "      <th>count</th>\n",
       "      <td>12.000000</td>\n",
       "      <td>388.000000</td>\n",
       "      <td>7662.000000</td>\n",
       "      <td>112.000000</td>\n",
       "      <td>58.000000</td>\n",
       "      <td>7658.000000</td>\n",
       "      <td>1348.000000</td>\n",
       "      <td>995.000000</td>\n",
       "      <td>5.000000</td>\n",
       "      <td>34.000000</td>\n",
       "      <td>...</td>\n",
       "      <td>0.0</td>\n",
       "      <td>0.0</td>\n",
       "      <td>0.0</td>\n",
       "      <td>0.0</td>\n",
       "      <td>0.0</td>\n",
       "      <td>0.0</td>\n",
       "      <td>0.0</td>\n",
       "      <td>0.0</td>\n",
       "      <td>0.0</td>\n",
       "      <td>0.0</td>\n",
       "    </tr>\n",
       "    <tr>\n",
       "      <th>mean</th>\n",
       "      <td>0.307692</td>\n",
       "      <td>0.655744</td>\n",
       "      <td>0.040935</td>\n",
       "      <td>0.102749</td>\n",
       "      <td>0.352874</td>\n",
       "      <td>0.395981</td>\n",
       "      <td>0.193175</td>\n",
       "      <td>0.012012</td>\n",
       "      <td>0.422222</td>\n",
       "      <td>0.129241</td>\n",
       "      <td>...</td>\n",
       "      <td>NaN</td>\n",
       "      <td>NaN</td>\n",
       "      <td>NaN</td>\n",
       "      <td>NaN</td>\n",
       "      <td>NaN</td>\n",
       "      <td>NaN</td>\n",
       "      <td>NaN</td>\n",
       "      <td>NaN</td>\n",
       "      <td>NaN</td>\n",
       "      <td>NaN</td>\n",
       "    </tr>\n",
       "    <tr>\n",
       "      <th>std</th>\n",
       "      <td>0.245454</td>\n",
       "      <td>0.216399</td>\n",
       "      <td>0.024599</td>\n",
       "      <td>0.153007</td>\n",
       "      <td>0.209337</td>\n",
       "      <td>0.085000</td>\n",
       "      <td>0.236683</td>\n",
       "      <td>0.041382</td>\n",
       "      <td>0.395967</td>\n",
       "      <td>0.162008</td>\n",
       "      <td>...</td>\n",
       "      <td>NaN</td>\n",
       "      <td>NaN</td>\n",
       "      <td>NaN</td>\n",
       "      <td>NaN</td>\n",
       "      <td>NaN</td>\n",
       "      <td>NaN</td>\n",
       "      <td>NaN</td>\n",
       "      <td>NaN</td>\n",
       "      <td>NaN</td>\n",
       "      <td>NaN</td>\n",
       "    </tr>\n",
       "    <tr>\n",
       "      <th>min</th>\n",
       "      <td>0.000000</td>\n",
       "      <td>0.000000</td>\n",
       "      <td>0.000000</td>\n",
       "      <td>0.000000</td>\n",
       "      <td>0.066667</td>\n",
       "      <td>0.000000</td>\n",
       "      <td>0.000000</td>\n",
       "      <td>0.000000</td>\n",
       "      <td>0.000000</td>\n",
       "      <td>0.000000</td>\n",
       "      <td>...</td>\n",
       "      <td>NaN</td>\n",
       "      <td>NaN</td>\n",
       "      <td>NaN</td>\n",
       "      <td>NaN</td>\n",
       "      <td>NaN</td>\n",
       "      <td>NaN</td>\n",
       "      <td>NaN</td>\n",
       "      <td>NaN</td>\n",
       "      <td>NaN</td>\n",
       "      <td>NaN</td>\n",
       "    </tr>\n",
       "    <tr>\n",
       "      <th>25%</th>\n",
       "      <td>0.134615</td>\n",
       "      <td>0.428571</td>\n",
       "      <td>0.031974</td>\n",
       "      <td>0.011905</td>\n",
       "      <td>0.200000</td>\n",
       "      <td>0.342105</td>\n",
       "      <td>0.000000</td>\n",
       "      <td>0.000000</td>\n",
       "      <td>0.111111</td>\n",
       "      <td>0.015560</td>\n",
       "      <td>...</td>\n",
       "      <td>NaN</td>\n",
       "      <td>NaN</td>\n",
       "      <td>NaN</td>\n",
       "      <td>NaN</td>\n",
       "      <td>NaN</td>\n",
       "      <td>NaN</td>\n",
       "      <td>NaN</td>\n",
       "      <td>NaN</td>\n",
       "      <td>NaN</td>\n",
       "      <td>NaN</td>\n",
       "    </tr>\n",
       "    <tr>\n",
       "      <th>50%</th>\n",
       "      <td>0.307692</td>\n",
       "      <td>0.702381</td>\n",
       "      <td>0.041369</td>\n",
       "      <td>0.047619</td>\n",
       "      <td>0.283333</td>\n",
       "      <td>0.394737</td>\n",
       "      <td>0.200000</td>\n",
       "      <td>0.000000</td>\n",
       "      <td>0.444444</td>\n",
       "      <td>0.049793</td>\n",
       "      <td>...</td>\n",
       "      <td>NaN</td>\n",
       "      <td>NaN</td>\n",
       "      <td>NaN</td>\n",
       "      <td>NaN</td>\n",
       "      <td>NaN</td>\n",
       "      <td>NaN</td>\n",
       "      <td>NaN</td>\n",
       "      <td>NaN</td>\n",
       "      <td>NaN</td>\n",
       "      <td>NaN</td>\n",
       "    </tr>\n",
       "    <tr>\n",
       "      <th>75%</th>\n",
       "      <td>0.403846</td>\n",
       "      <td>0.857143</td>\n",
       "      <td>0.048950</td>\n",
       "      <td>0.142857</td>\n",
       "      <td>0.525000</td>\n",
       "      <td>0.421053</td>\n",
       "      <td>0.400000</td>\n",
       "      <td>0.011905</td>\n",
       "      <td>0.555556</td>\n",
       "      <td>0.186722</td>\n",
       "      <td>...</td>\n",
       "      <td>NaN</td>\n",
       "      <td>NaN</td>\n",
       "      <td>NaN</td>\n",
       "      <td>NaN</td>\n",
       "      <td>NaN</td>\n",
       "      <td>NaN</td>\n",
       "      <td>NaN</td>\n",
       "      <td>NaN</td>\n",
       "      <td>NaN</td>\n",
       "      <td>NaN</td>\n",
       "    </tr>\n",
       "    <tr>\n",
       "      <th>max</th>\n",
       "      <td>0.846154</td>\n",
       "      <td>1.000000</td>\n",
       "      <td>1.000000</td>\n",
       "      <td>1.000000</td>\n",
       "      <td>0.833333</td>\n",
       "      <td>1.000000</td>\n",
       "      <td>1.000000</td>\n",
       "      <td>1.000000</td>\n",
       "      <td>1.000000</td>\n",
       "      <td>0.597510</td>\n",
       "      <td>...</td>\n",
       "      <td>NaN</td>\n",
       "      <td>NaN</td>\n",
       "      <td>NaN</td>\n",
       "      <td>NaN</td>\n",
       "      <td>NaN</td>\n",
       "      <td>NaN</td>\n",
       "      <td>NaN</td>\n",
       "      <td>NaN</td>\n",
       "      <td>NaN</td>\n",
       "      <td>NaN</td>\n",
       "    </tr>\n",
       "  </tbody>\n",
       "</table>\n",
       "<p>8 rows × 345 columns</p>\n",
       "</div>"
      ],
      "text/plain": [
       "          n_0000      n_0001       n_0002      n_0003     n_0004       n_0005  \\\n",
       "count  12.000000  388.000000  7662.000000  112.000000  58.000000  7658.000000   \n",
       "mean    0.307692    0.655744     0.040935    0.102749   0.352874     0.395981   \n",
       "std     0.245454    0.216399     0.024599    0.153007   0.209337     0.085000   \n",
       "min     0.000000    0.000000     0.000000    0.000000   0.066667     0.000000   \n",
       "25%     0.134615    0.428571     0.031974    0.011905   0.200000     0.342105   \n",
       "50%     0.307692    0.702381     0.041369    0.047619   0.283333     0.394737   \n",
       "75%     0.403846    0.857143     0.048950    0.142857   0.525000     0.421053   \n",
       "max     0.846154    1.000000     1.000000    1.000000   0.833333     1.000000   \n",
       "\n",
       "            n_0006      n_0007    n_0008     n_0009  ...  c_1072  c_1129  \\\n",
       "count  1348.000000  995.000000  5.000000  34.000000  ...     0.0     0.0   \n",
       "mean      0.193175    0.012012  0.422222   0.129241  ...     NaN     NaN   \n",
       "std       0.236683    0.041382  0.395967   0.162008  ...     NaN     NaN   \n",
       "min       0.000000    0.000000  0.000000   0.000000  ...     NaN     NaN   \n",
       "25%       0.000000    0.000000  0.111111   0.015560  ...     NaN     NaN   \n",
       "50%       0.200000    0.000000  0.444444   0.049793  ...     NaN     NaN   \n",
       "75%       0.400000    0.011905  0.555556   0.186722  ...     NaN     NaN   \n",
       "max       1.000000    1.000000  1.000000   0.597510  ...     NaN     NaN   \n",
       "\n",
       "       c_1148  c_1168  c_1230  c_1257  c_1277  c_1281  c_1308  c_1332  \n",
       "count     0.0     0.0     0.0     0.0     0.0     0.0     0.0     0.0  \n",
       "mean      NaN     NaN     NaN     NaN     NaN     NaN     NaN     NaN  \n",
       "std       NaN     NaN     NaN     NaN     NaN     NaN     NaN     NaN  \n",
       "min       NaN     NaN     NaN     NaN     NaN     NaN     NaN     NaN  \n",
       "25%       NaN     NaN     NaN     NaN     NaN     NaN     NaN     NaN  \n",
       "50%       NaN     NaN     NaN     NaN     NaN     NaN     NaN     NaN  \n",
       "75%       NaN     NaN     NaN     NaN     NaN     NaN     NaN     NaN  \n",
       "max       NaN     NaN     NaN     NaN     NaN     NaN     NaN     NaN  \n",
       "\n",
       "[8 rows x 345 columns]"
      ]
     },
     "execution_count": 524,
     "metadata": {},
     "output_type": "execute_result"
    }
   ],
   "source": [
    "float_part = train_df.select_dtypes(include=['float64'])\n",
    "float_part.describe()"
   ]
  },
  {
   "cell_type": "code",
   "execution_count": 574,
   "id": "9623556f-beee-459f-8a32-1403b8d39bec",
   "metadata": {},
   "outputs": [
    {
     "data": {
      "image/png": "[encoded data removed]",
      "text/plain": [
       "<Figure size 1000x400 with 1 Axes>"
      ]
     },
     "metadata": {},
     "output_type": "display_data"
    }
   ],
   "source": [
    "# plot distribution of existing values\n",
    "existing_per_column = r.shape[0] - r.isna().sum(axis=0)\n",
    "unqf = np.quantile(existing_per_column, q=0.75)\n",
    "plt.figure(figsize=(10,4))\n",
    "plt.title('Distribution of values for float features')\n",
    "plt.xlabel('Amount of existing values')\n",
    "plt.axvline(unqf, color='red')\n",
    "ax = sns.histplot(existing_per_column, kde=True, bins=100)"
   ]
  },
  {
   "cell_type": "code",
   "execution_count": 518,
   "id": "b6b3a83a-3538-4285-9753-eb335eff954e",
   "metadata": {},
   "outputs": [
    {
     "data": {
      "image/png": "[encoded data removed]",
      "text/plain": [
       "<Figure size 1000x400 with 3 Axes>"
      ]
     },
     "metadata": {},
     "output_type": "display_data"
    }
   ],
   "source": [
    "#NaN relationship\n",
    "fig, ax = plt.subplots(1,2, figsize=(10,4)) \n",
    "rel = pd.concat([float_part.isna().sum(axis=1), string_part.isna().sum(axis=1)], axis=1)\n",
    "ax[0].set_title('Relationship of NaNs')\n",
    "ax[0].set_xlabel('string')\n",
    "ax[0].set_ylabel('float')\n",
    "ax[0] = sns.histplot(rel, x=1, y=0, cbar=True, cmap='crest', ax=ax[0])\n",
    "ax[1].set_title('Pearson correlation of NaNs')\n",
    "ax[1] = sns.heatmap(rel.corr(), cmap='crest', ax=ax[1], xticklabels=['float','string'], yticklabels=['float','string'], annot=True, cbar=False)\n",
    "# h = sns.jointplot(rel, x=1, y=0, s=4)\n",
    "# h.set_axis_labels('string NaNs', 'float NaNs')"
   ]
  },
  {
   "cell_type": "markdown",
   "id": "f7f39bf1-ec97-46d5-94d1-2a2dd6d89099",
   "metadata": {},
   "source": [
    "## Preprocessing strategy\n",
    "\n",
    "1) exclude id column\n",
    "2) get rid of all-NaN columns\n",
    "3) split the dataframe onto 3 parts by dtype\n",
    "4) cast all strings to pandas categorical dtype and use ordinal encoder (pandas approach)\n",
    "5) binning for numerical NaNs with #existing < threshold=?\n",
    "6) median imputing for the rest, create an extra column for each feature with imputation"
   ]
  },
  {
   "cell_type": "code",
   "execution_count": 661,
   "id": "40c12daf-5370-448c-b390-50f9aa8a7ee8",
   "metadata": {},
   "outputs": [],
   "source": [
    "def base_preprocessing(dframe: pd.DataFrame, binning_thr=10) -> pd.DataFrame:\n",
    "    # eliminate id column\n",
    "    result_ = dframe.drop('id', axis=1)\n",
    "    # get rid of columns with all NaNs\n",
    "    allnan_cols = result_.columns[result_.isnull().all(axis=0)]\n",
    "    result_.drop(allnan_cols, axis=1, inplace=True)\n",
    "    # split by value type and treat string columns as categorical features\n",
    "    int_part = result_.select_dtypes(include=['int64'])\n",
    "    float_part = result_.select_dtypes(include=['float64'])\n",
    "    string_part = result_.select_dtypes(include=['O']).astype('category')\n",
    "    # handle the rest of NaNs \n",
    "    cat_part = string_part.apply(lambda col: col.cat.codes) # ~ ordinal encoding with all NaNs -> -1\n",
    "    # split floats by a number of existing values\n",
    "    existing = float_part.shape[0] - float_part.isna().sum(axis=0)\n",
    "    float_to_bin = float_part.columns[existing < binning_thr]\n",
    "    rest_float = float_part.columns[~(existing < binning_thr)]\n",
    "    print(float_to_bin)\n",
    "    return float_part"
   ]
  },
  {
   "cell_type": "code",
   "execution_count": 660,
   "id": "90beb8bf-45c4-4df2-8cbc-8c08e4ff074f",
   "metadata": {},
   "outputs": [
    {
     "name": "stdout",
     "output_type": "stream",
     "text": [
      "Index(['n_0008', 'n_0011', 'n_0018', 'n_0055', 'n_0062', 'n_0065', 'n_0081',\n",
      "       'n_0103', 'n_0111', 'o_0117', 'o_0121', 'o_0122', 'o_0126', 'o_0134',\n",
      "       'o_0136', 'o_0149', 'o_0151', 'o_0161', 'o_0162', 'o_0164', 'o_0166',\n",
      "       'o_0169', 'o_0171', 'o_0172', 'o_0174', 'o_0180', 'o_0182', 'o_0184',\n",
      "       'o_0185', 'o_0186', 'o_0191', 'o_0192', 'o_0200', 'o_0203', 'o_0211',\n",
      "       'o_0213', 'o_0218', 'o_0220', 'o_0225', 'o_0226', 'o_0233', 'o_0237',\n",
      "       'o_0239', 'o_0242', 'o_0246', 'o_0250', 'o_0262', 'o_0263', 'o_0273',\n",
      "       'o_0289', 'o_0290', 'o_0291', 'o_0294', 'o_0297', 'o_0299', 'o_0300',\n",
      "       'o_0302', 'o_0306', 'o_0307', 'o_0309', 'o_0310', 'o_0311', 'o_0317',\n",
      "       'o_0318', 'o_0320', 'o_0321'],\n",
      "      dtype='object')\n"
     ]
    }
   ],
   "source": [
    "r = base_preprocessing(train_df)"
   ]
  },
  {
   "cell_type": "code",
   "execution_count": 563,
   "id": "99d69549-9ab6-4f78-8553-e7608b41e87d",
   "metadata": {},
   "outputs": [
    {
     "data": {
      "text/plain": [
       "4"
      ]
     },
     "execution_count": 563,
     "metadata": {},
     "output_type": "execute_result"
    }
   ],
   "source": [
    "sum(r.isna().sum(axis=0) == 0)"
   ]
  },
  {
   "cell_type": "code",
   "execution_count": 623,
   "id": "59bbda19-e2a8-4d45-b75f-f9533b87e55c",
   "metadata": {},
   "outputs": [
    {
     "data": {
      "text/plain": [
       "Index(['n_0000', 'n_0001', 'n_0003', 'n_0004', 'n_0006', 'n_0007', 'n_0008',\n",
       "       'n_0009', 'n_0010', 'n_0011',\n",
       "       ...\n",
       "       'o_0317', 'o_0318', 'o_0319', 'o_0320', 'o_0321', 'o_0322', 'o_0323',\n",
       "       'o_0324', 'o_0325', 'o_0326'],\n",
       "      dtype='object', length=302)"
      ]
     },
     "execution_count": 623,
     "metadata": {},
     "output_type": "execute_result"
    }
   ],
   "source": [
    "r.columns[r.isna().sum(axis=0) > 1000]"
   ]
  },
  {
   "cell_type": "code",
   "execution_count": 658,
   "id": "d794a438-a336-4fce-8e9d-4baae6781ccc",
   "metadata": {},
   "outputs": [
    {
     "data": {
      "text/plain": [
       "[NaN, (-0.001, 0.0]]\n",
       "Categories (1, interval[float64, right]): [(-0.001, 0.0]]"
      ]
     },
     "execution_count": 658,
     "metadata": {},
     "output_type": "execute_result"
    }
   ],
   "source": [
    "pd.qcut(r['n_0065'], q=1).unique()"
   ]
  },
  {
   "cell_type": "code",
   "execution_count": 593,
   "id": "0f21d6d5-1e3a-43e8-9f6e-5988a9363f54",
   "metadata": {},
   "outputs": [
    {
     "data": {
      "text/plain": [
       "array([       nan, 0.30769231, 0.07692308, 0.15384615, 0.46153846,\n",
       "       0.61538462, 0.84615385, 0.        , 0.38461538])"
      ]
     },
     "execution_count": 593,
     "metadata": {},
     "output_type": "execute_result"
    }
   ],
   "source": [
    "r.n_0000.unique()"
   ]
  },
  {
   "cell_type": "code",
   "execution_count": null,
   "id": "316e2731-83cd-4e02-8fcf-9b0e108d8167",
   "metadata": {},
   "outputs": [],
   "source": []
  }
 ],
 "metadata": {
  "kernelspec": {
   "display_name": "Python 3 (ipykernel)",
   "language": "python",
   "name": "python3"
  },
  "language_info": {
   "codemirror_mode": {
    "name": "ipython",
    "version": 3
   },
   "file_extension": ".py",
   "mimetype": "text/x-python",
   "name": "python",
   "nbconvert_exporter": "python",
   "pygments_lexer": "ipython3",
   "version": "3.11.4"
  },
  "widgets": {
   "application/vnd.jupyter.widget-state+json": {
    "state": {},
    "version_major": 2,
    "version_minor": 0
   }
  }
 },
 "nbformat": 4,
 "nbformat_minor": 5
}
